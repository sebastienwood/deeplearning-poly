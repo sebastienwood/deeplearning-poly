{
 "cells": [
  {
   "cell_type": "code",
   "execution_count": 127,
   "metadata": {},
   "outputs": [],
   "source": [
    "import numpy as np\n",
    "import matplotlib.pyplot as plt\n",
    "from sklearn import datasets\n",
    "from sklearn.model_selection import train_test_split\n",
    "\n",
    "digits = datasets.load_digits()\n",
    "\n",
    "# X has 64 var (8x8 img) and approx 1700 obs\n",
    "X = digits.data\n",
    "\n",
    "y = digits.target\n",
    "y_one_hot = np.zeros((y.shape[0], len(np.unique(y))))\n",
    "y_one_hot[np.arange(y.shape[0]), y] = 1 # one hot target or shape NxK\n",
    "\n",
    "X_train, X_test, y_train, y_test = train_test_split(X, y_one_hot, test_size=0.3, random_state=42)\n",
    "\n",
    "X_test, X_validation, y_test, y_validation = train_test_split(X_test, y_test, test_size=0.5, random_state=42)\n",
    "\n",
    "W = np.random.normal(0, 0.01, (len(np.unique(y)), X.shape[1])) # weights of shape KxL\n",
    "\n",
    "best_W = None\n",
    "best_accuracy = 0\n",
    "lr = 0.1\n",
    "nb_epochs = 500\n",
    "mbs = 1000\n",
    "minibatch_size = len(y) // mbs\n",
    "\n",
    "losses = []\n",
    "lossesTest = []\n",
    "lossesValid = []\n",
    "accuracies = []\n",
    "\n",
    "\n",
    "def softmax(x):\n",
    "    # Function tested OK ( == 1 for each indiv)\n",
    "    # assurez vous que la fonction est numeriquement stable\n",
    "    # eg softmax(np.array([1000, 10000, 100000], ndmin=2))\n",
    "    # -> minus max to avoid overflow\n",
    "    x -= np.max(x)\n",
    "\n",
    "    softmaxval = (np.exp(x).T / np.sum(np.exp(x), axis=1)).T\n",
    "    return softmaxval\n",
    "\n",
    "\n",
    "def get_accuracy(X, y, W):\n",
    "    # should return a percentage of accuracy (you evaluate nb of good guess on nb of total guesses)\n",
    "    y_pred = softmax(X.dot(W.T))\n",
    "\n",
    "    prediction = np.argmax(y_pred, axis = 1)\n",
    "    reality = np.argmax(y, axis = 1)\n",
    "    acc = np.sum(reality == prediction) / y.shape[0]\n",
    "    return acc\n",
    "\n",
    "\n",
    "def get_grads(y, y_pred, X):\n",
    "    # Should be OK, math behind the scene to review\n",
    "    # return the gradient\n",
    "    m = X.shape[0] # nb indiv\n",
    "\n",
    "    prod = np.dot(X.T, (y - y_pred))\n",
    "    grad = (-1 / m) * prod\n",
    "\n",
    "    return grad.T\n",
    "\n",
    "\n",
    "def get_loss(y, y_pred):\n",
    "    # we need to perform additional operations to reduce the value, otherwise too big\n",
    "    # cross entropy rather than nll\n",
    "    # 1 : average over sample size (/m)\n",
    "    # 2 : consider only the y == true misses (/nb classes) (because one hot too)\n",
    "    m = y.shape[0] # nb indiv\n",
    "    return (-1/m) * np.sum(y * np.log(y_pred))\n"
   ]
  },
  {
   "cell_type": "code",
   "execution_count": 128,
   "metadata": {},
   "outputs": [
    {
     "name": "stderr",
     "output_type": "stream",
     "text": [
      "/Users/sebastienhenwood/PycharmProjects/inf8225/venv/lib/python3.6/site-packages/ipykernel_launcher.py:72: RuntimeWarning: divide by zero encountered in log\n",
      "/Users/sebastienhenwood/PycharmProjects/inf8225/venv/lib/python3.6/site-packages/ipykernel_launcher.py:72: RuntimeWarning: invalid value encountered in multiply\n",
      "/Users/sebastienhenwood/PycharmProjects/inf8225/venv/lib/python3.6/site-packages/ipykernel_launcher.py:41: RuntimeWarning: invalid value encountered in true_divide\n"
     ]
    }
   ],
   "source": [
    "for epoch in range(nb_epochs):\n",
    "    loss = 0\n",
    "    accuracy = 0\n",
    "\n",
    "    for i in range(0, X_train.shape[0], minibatch_size):\n",
    "        # work on current batch from train partition\n",
    "        # predict (we need to transpose W for matrix mult)\n",
    "        y_pred = softmax(np.dot(X_train[i: i + minibatch_size], W.T))\n",
    "\n",
    "        # compute error and store it\n",
    "        error = get_loss(y_train[i: i + minibatch_size], y_pred)\n",
    "        loss += error\n",
    "\n",
    "        # update W\n",
    "        grads = get_grads(y_train[i: i + minibatch_size], y_pred, X_train[i: i + minibatch_size])\n",
    "        W -= (lr * grads)\n",
    "\n",
    "    losses.append(loss)  # compute the loss on the train test\n",
    "    lossesTest.append(get_loss(y_test, softmax(np.dot(X_test, W.T))))\n",
    "    lossesValid.append(get_loss(y_validation, softmax(np.dot(X_validation, W.T))))\n",
    "\n",
    "    accuracy = get_accuracy(X_validation, y_validation, W)\n",
    "    accuracies.append(accuracy)  # compute the accuracy on the validation test\n",
    "\n",
    "   # print(accuracy)\n",
    "    if accuracy > best_accuracy:\n",
    "        best_W = W.copy()  # select the best parameters based on the validation accuracy\n",
    "        best_accuracy = accuracy"
   ]
  },
  {
   "cell_type": "code",
   "execution_count": 129,
   "metadata": {},
   "outputs": [
    {
     "name": "stdout",
     "output_type": "stream",
     "text": [
      "0.7814814814814814\n"
     ]
    },
    {
     "name": "stderr",
     "output_type": "stream",
     "text": [
      "/Users/sebastienhenwood/PycharmProjects/inf8225/venv/lib/python3.6/site-packages/ipykernel_launcher.py:41: RuntimeWarning: invalid value encountered in true_divide\n"
     ]
    }
   ],
   "source": [
    "accuracy_on_unseen_data = get_accuracy(X_test, y_test, best_W)\n",
    "print(accuracy_on_unseen_data)  # 0.89750692508"
   ]
  },
  {
   "cell_type": "code",
   "execution_count": 130,
   "metadata": {},
   "outputs": [],
   "source": [
    "# print(lossesTest)"
   ]
  },
  {
   "cell_type": "code",
   "execution_count": 131,
   "metadata": {},
   "outputs": [],
   "source": [
    "# print(lossesValid)"
   ]
  },
  {
   "cell_type": "code",
   "execution_count": null,
   "metadata": {},
   "outputs": [
    {
     "data": {
      "image/png": "[encoded data removed]",
      "text/plain": [
       "<matplotlib.figure.Figure at 0x113798a20>"
      ]
     },
     "metadata": {},
     "output_type": "display_data"
    }
   ],
   "source": [
    "# plt.plot(losses, label='LossOnTrain')\n",
    "plt.plot(lossesTest, label='LossOnTest')\n",
    "plt.plot(lossesValid, label='LossOnValid')\n",
    "plt.ylabel('Average negative log likelihood')\n",
    "plt.xlabel('Epoch')\n",
    "plt.title('Experiment with LR={} and nb minibatch={}'.format(lr, mbs))\n",
    "plt.legend()\n",
    "plt.show()"
   ]
  },
  {
   "cell_type": "code",
   "execution_count": null,
   "metadata": {
    "collapsed": true
   },
   "outputs": [],
   "source": [
    "plt.imshow(best_W[4, :].reshape(8,8))\n"
   ]
  }
 ],
 "metadata": {
  "kernelspec": {
   "display_name": "Python 3",
   "language": "python",
   "name": "python3"
  },
  "language_info": {
   "codemirror_mode": {
    "name": "ipython",
    "version": 3
   },
   "file_extension": ".py",
   "mimetype": "text/x-python",
   "name": "python",
   "nbconvert_exporter": "python",
   "pygments_lexer": "ipython3",
   "version": "3.6.2"
  }
 },
 "nbformat": 4,
 "nbformat_minor": 1
}
